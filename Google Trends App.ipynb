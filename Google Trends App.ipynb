{
 "cells": [
  {
   "cell_type": "raw",
   "metadata": {},
   "source": [
    "## Google trends app"
   ]
  },
  {
   "cell_type": "code",
   "execution_count": 31,
   "metadata": {
    "jupyter": {
     "outputs_hidden": false
    },
    "pycharm": {
     "name": "#%%\n"
    }
   },
   "outputs": [],
   "source": [
    "# Standard imports\n",
    "\n",
    "from pytrends.request import TrendReq\n",
    "import pandas as pd\n",
    "\n",
    " # Establish Pytrends connection\n",
    "\n",
    "pytrend = TrendReq(timeout=(100,100))"
   ]
  },
  {
   "cell_type": "code",
   "execution_count": 32,
   "metadata": {
    "jupyter": {
     "outputs_hidden": false
    },
    "pycharm": {
     "name": "#%%\n"
    }
   },
   "outputs": [],
   "source": [
    "Keywords=['beer'] # you can use any keywords such as \"brýle\", \"sluneční brýle\", \"sunglassses\", etc."
   ]
  },
  {
   "cell_type": "code",
   "execution_count": 33,
   "metadata": {
    "jupyter": {
     "outputs_hidden": false
    },
    "pycharm": {
     "name": "#%%\n"
    }
   },
   "outputs": [],
   "source": [
    "Countries=['GB'] #Use this link to get country code: https://en.wikipedia.org/wiki/List_of_ISO_3166_country_code"
   ]
  },
  {
   "cell_type": "code",
   "execution_count": 34,
   "metadata": {
    "jupyter": {
     "outputs_hidden": false
    },
    "pycharm": {
     "name": "#%%\n"
    }
   },
   "outputs": [],
   "source": [
    "Date_interval='today 3-m' # specify date range, you can also use \"today 3-m\" and \"today 1-m\" for last 3 and 1 months"
   ]
  },
  {
   "cell_type": "code",
   "execution_count": 35,
   "metadata": {
    "jupyter": {
     "outputs_hidden": false
    },
    "pycharm": {
     "name": "#%%\n"
    }
   },
   "outputs": [],
   "source": [
    "Category=0 # Use this link to select categories: https://github.com/pat310/google-trends-api/wiki/Google-Trends-Categories"
   ]
  },
  {
   "cell_type": "code",
   "execution_count": 36,
   "metadata": {
    "jupyter": {
     "outputs_hidden": false
    },
    "pycharm": {
     "name": "#%%\n"
    }
   },
   "outputs": [],
   "source": [
    "Search_type='' #default is 'web searches',others include 'images','news','youtube','froogle' (google shopping)"
   ]
  },
  {
   "cell_type": "code",
   "execution_count": 37,
   "metadata": {
    "jupyter": {
     "outputs_hidden": false
    },
    "pycharm": {
     "name": "#%%\n"
    }
   },
   "outputs": [],
   "source": [
    "Individual_keyword = list(zip(*[iter(Keywords)]*1))\n",
    "Individual_keyword = [list(x) for x in Individual_keyword]\n",
    "dicti = []\n",
    "\n",
    "for Country in Countries:\n",
    "    for keyword in Individual_keyword:\n",
    "        pytrend.build_payload(kw_list=keyword,\n",
    "                              timeframe = Date_interval,\n",
    "                              geo = Country,\n",
    "                              cat=Category,\n",
    "                              gprop=Search_type)\n",
    "        dicti.append(pytrend.related_topics())"
   ]
  },
  {
   "cell_type": "code",
   "execution_count": 38,
   "metadata": {
    "jupyter": {
     "outputs_hidden": false
    },
    "pycharm": {
     "name": "#%%\n"
    }
   },
   "outputs": [],
   "source": [
    "df = []\n",
    "\n",
    "for dict in dicti:\n",
    "    for kw in dict:\n",
    "        rising = dict[kw]['rising']\n",
    "\n",
    "        for index, row in rising.iterrows():\n",
    "            df.append([\n",
    "                row.array[0],\n",
    "                row.array[1],\n",
    "                row.array[2],\n",
    "                row.array[3],\n",
    "                row.array[4],\n",
    "                row.array[5],\n",
    "                kw,\n",
    "                'rising',\n",
    "            ])\n",
    "\n",
    "        top = dict[kw]['top']\n",
    "\n",
    "        for index, row in top.iterrows():\n",
    "            df.append([\n",
    "                row.array[0],\n",
    "                row.array[1],\n",
    "                row.array[2],\n",
    "                row.array[3],\n",
    "                row.array[4],\n",
    "                row.array[5],\n",
    "                kw,\n",
    "                'top',\n",
    "            ])"
   ]
  },
  {
   "cell_type": "code",
   "execution_count": 39,
   "metadata": {
    "jupyter": {
     "outputs_hidden": false
    },
    "pycharm": {
     "name": "#%%\n"
    }
   },
   "outputs": [],
   "source": [
    "data = pd.DataFrame(df, columns=['value','change','url', 'url_2','category','topic', 'key_word','measure'])"
   ]
  },
  {
   "cell_type": "code",
   "execution_count": 40,
   "metadata": {
    "jupyter": {
     "outputs_hidden": false
    },
    "pycharm": {
     "name": "#%%\n"
    }
   },
   "outputs": [],
   "source": [
    "rising = data.loc[(data['measure'] == 'rising'), ['value','change','category','topic', 'key_word','measure']]"
   ]
  },
  {
   "cell_type": "code",
   "execution_count": 41,
   "metadata": {},
   "outputs": [
    {
     "data": {
      "text/html": [
       "<div>\n",
       "<style scoped>\n",
       "    .dataframe tbody tr th:only-of-type {\n",
       "        vertical-align: middle;\n",
       "    }\n",
       "\n",
       "    .dataframe tbody tr th {\n",
       "        vertical-align: top;\n",
       "    }\n",
       "\n",
       "    .dataframe thead th {\n",
       "        text-align: right;\n",
       "    }\n",
       "</style>\n",
       "<table border=\"1\" class=\"dataframe\">\n",
       "  <thead>\n",
       "    <tr style=\"text-align: right;\">\n",
       "      <th></th>\n",
       "      <th>value</th>\n",
       "      <th>change</th>\n",
       "      <th>category</th>\n",
       "      <th>topic</th>\n",
       "      <th>key_word</th>\n",
       "      <th>measure</th>\n",
       "    </tr>\n",
       "  </thead>\n",
       "  <tbody>\n",
       "    <tr>\n",
       "      <th>0</th>\n",
       "      <td>2450</td>\n",
       "      <td>+2,450%</td>\n",
       "      <td>Free Beer</td>\n",
       "      <td>Topic</td>\n",
       "      <td>beer</td>\n",
       "      <td>rising</td>\n",
       "    </tr>\n",
       "    <tr>\n",
       "      <th>1</th>\n",
       "      <td>250</td>\n",
       "      <td>+250%</td>\n",
       "      <td>Beer hall</td>\n",
       "      <td>Topic</td>\n",
       "      <td>beer</td>\n",
       "      <td>rising</td>\n",
       "    </tr>\n",
       "    <tr>\n",
       "      <th>2</th>\n",
       "      <td>190</td>\n",
       "      <td>+190%</td>\n",
       "      <td>Tiny Rebel</td>\n",
       "      <td>Topic</td>\n",
       "      <td>beer</td>\n",
       "      <td>rising</td>\n",
       "    </tr>\n",
       "    <tr>\n",
       "      <th>3</th>\n",
       "      <td>150</td>\n",
       "      <td>+150%</td>\n",
       "      <td>Beermerchants.com</td>\n",
       "      <td>Beer store in England</td>\n",
       "      <td>beer</td>\n",
       "      <td>rising</td>\n",
       "    </tr>\n",
       "    <tr>\n",
       "      <th>4</th>\n",
       "      <td>120</td>\n",
       "      <td>+120%</td>\n",
       "      <td>PerfectDraft HD3620 - Beer Dispenser - 70 W - ...</td>\n",
       "      <td>Topic</td>\n",
       "      <td>beer</td>\n",
       "      <td>rising</td>\n",
       "    </tr>\n",
       "    <tr>\n",
       "      <th>5</th>\n",
       "      <td>100</td>\n",
       "      <td>+100%</td>\n",
       "      <td>PerfectDraft</td>\n",
       "      <td>Topic</td>\n",
       "      <td>beer</td>\n",
       "      <td>rising</td>\n",
       "    </tr>\n",
       "    <tr>\n",
       "      <th>6</th>\n",
       "      <td>80</td>\n",
       "      <td>+80%</td>\n",
       "      <td>Budweiser</td>\n",
       "      <td>Beer</td>\n",
       "      <td>beer</td>\n",
       "      <td>rising</td>\n",
       "    </tr>\n",
       "    <tr>\n",
       "      <th>7</th>\n",
       "      <td>80</td>\n",
       "      <td>+80%</td>\n",
       "      <td>Beer tower</td>\n",
       "      <td>Topic</td>\n",
       "      <td>beer</td>\n",
       "      <td>rising</td>\n",
       "    </tr>\n",
       "    <tr>\n",
       "      <th>8</th>\n",
       "      <td>80</td>\n",
       "      <td>+80%</td>\n",
       "      <td>Ginger ale</td>\n",
       "      <td>Drink</td>\n",
       "      <td>beer</td>\n",
       "      <td>rising</td>\n",
       "    </tr>\n",
       "    <tr>\n",
       "      <th>9</th>\n",
       "      <td>80</td>\n",
       "      <td>+80%</td>\n",
       "      <td>Beer Hawk</td>\n",
       "      <td>Topic</td>\n",
       "      <td>beer</td>\n",
       "      <td>rising</td>\n",
       "    </tr>\n",
       "    <tr>\n",
       "      <th>10</th>\n",
       "      <td>60</td>\n",
       "      <td>+60%</td>\n",
       "      <td>Blade</td>\n",
       "      <td>Topic</td>\n",
       "      <td>beer</td>\n",
       "      <td>rising</td>\n",
       "    </tr>\n",
       "    <tr>\n",
       "      <th>11</th>\n",
       "      <td>50</td>\n",
       "      <td>+50%</td>\n",
       "      <td>Tap</td>\n",
       "      <td>Valve</td>\n",
       "      <td>beer</td>\n",
       "      <td>rising</td>\n",
       "    </tr>\n",
       "    <tr>\n",
       "      <th>12</th>\n",
       "      <td>40</td>\n",
       "      <td>+40%</td>\n",
       "      <td>Keg</td>\n",
       "      <td>Beer container</td>\n",
       "      <td>beer</td>\n",
       "      <td>rising</td>\n",
       "    </tr>\n",
       "  </tbody>\n",
       "</table>\n",
       "</div>"
      ],
      "text/plain": [
       "    value   change                                           category  \\\n",
       "0    2450  +2,450%                                          Free Beer   \n",
       "1     250    +250%                                          Beer hall   \n",
       "2     190    +190%                                         Tiny Rebel   \n",
       "3     150    +150%                                  Beermerchants.com   \n",
       "4     120    +120%  PerfectDraft HD3620 - Beer Dispenser - 70 W - ...   \n",
       "5     100    +100%                                       PerfectDraft   \n",
       "6      80     +80%                                          Budweiser   \n",
       "7      80     +80%                                         Beer tower   \n",
       "8      80     +80%                                         Ginger ale   \n",
       "9      80     +80%                                          Beer Hawk   \n",
       "10     60     +60%                                              Blade   \n",
       "11     50     +50%                                                Tap   \n",
       "12     40     +40%                                                Keg   \n",
       "\n",
       "                    topic key_word measure  \n",
       "0                   Topic     beer  rising  \n",
       "1                   Topic     beer  rising  \n",
       "2                   Topic     beer  rising  \n",
       "3   Beer store in England     beer  rising  \n",
       "4                   Topic     beer  rising  \n",
       "5                   Topic     beer  rising  \n",
       "6                    Beer     beer  rising  \n",
       "7                   Topic     beer  rising  \n",
       "8                   Drink     beer  rising  \n",
       "9                   Topic     beer  rising  \n",
       "10                  Topic     beer  rising  \n",
       "11                  Valve     beer  rising  \n",
       "12         Beer container     beer  rising  "
      ]
     },
     "execution_count": 41,
     "metadata": {},
     "output_type": "execute_result"
    }
   ],
   "source": [
    "rising"
   ]
  },
  {
   "cell_type": "code",
   "execution_count": 42,
   "metadata": {
    "jupyter": {
     "outputs_hidden": false
    },
    "pycharm": {
     "name": "#%%\n"
    }
   },
   "outputs": [],
   "source": [
    "top = data.loc[(data['measure'] == 'top'), ['category','topic', 'key_word','measure']]"
   ]
  },
  {
   "cell_type": "code",
   "execution_count": 43,
   "metadata": {},
   "outputs": [
    {
     "data": {
      "text/html": [
       "<div>\n",
       "<style scoped>\n",
       "    .dataframe tbody tr th:only-of-type {\n",
       "        vertical-align: middle;\n",
       "    }\n",
       "\n",
       "    .dataframe tbody tr th {\n",
       "        vertical-align: top;\n",
       "    }\n",
       "\n",
       "    .dataframe thead th {\n",
       "        text-align: right;\n",
       "    }\n",
       "</style>\n",
       "<table border=\"1\" class=\"dataframe\">\n",
       "  <thead>\n",
       "    <tr style=\"text-align: right;\">\n",
       "      <th></th>\n",
       "      <th>category</th>\n",
       "      <th>topic</th>\n",
       "      <th>key_word</th>\n",
       "      <th>measure</th>\n",
       "    </tr>\n",
       "  </thead>\n",
       "  <tbody>\n",
       "    <tr>\n",
       "      <th>13</th>\n",
       "      <td>/m/01599</td>\n",
       "      <td>Beer</td>\n",
       "      <td>beer</td>\n",
       "      <td>top</td>\n",
       "    </tr>\n",
       "    <tr>\n",
       "      <th>14</th>\n",
       "      <td>/g/11h8dvvrfx</td>\n",
       "      <td>Beer Hawk</td>\n",
       "      <td>beer</td>\n",
       "      <td>top</td>\n",
       "    </tr>\n",
       "    <tr>\n",
       "      <th>15</th>\n",
       "      <td>/m/04mwqs</td>\n",
       "      <td>Keg</td>\n",
       "      <td>beer</td>\n",
       "      <td>top</td>\n",
       "    </tr>\n",
       "    <tr>\n",
       "      <th>16</th>\n",
       "      <td>/m/0x2cb7v</td>\n",
       "      <td>Madison Beer</td>\n",
       "      <td>beer</td>\n",
       "      <td>top</td>\n",
       "    </tr>\n",
       "    <tr>\n",
       "      <th>17</th>\n",
       "      <td>/m/012mj</td>\n",
       "      <td>Alcoholic drink</td>\n",
       "      <td>beer</td>\n",
       "      <td>top</td>\n",
       "    </tr>\n",
       "    <tr>\n",
       "      <th>18</th>\n",
       "      <td>/m/039jq</td>\n",
       "      <td>Glass</td>\n",
       "      <td>beer</td>\n",
       "      <td>top</td>\n",
       "    </tr>\n",
       "    <tr>\n",
       "      <th>19</th>\n",
       "      <td>/m/04dr76w</td>\n",
       "      <td>Bottle</td>\n",
       "      <td>beer</td>\n",
       "      <td>top</td>\n",
       "    </tr>\n",
       "    <tr>\n",
       "      <th>20</th>\n",
       "      <td>/g/122fpn6r</td>\n",
       "      <td>Drink</td>\n",
       "      <td>beer</td>\n",
       "      <td>top</td>\n",
       "    </tr>\n",
       "    <tr>\n",
       "      <th>21</th>\n",
       "      <td>/m/0f9n3</td>\n",
       "      <td>Ginger</td>\n",
       "      <td>beer</td>\n",
       "      <td>top</td>\n",
       "    </tr>\n",
       "    <tr>\n",
       "      <th>22</th>\n",
       "      <td>/m/0bs7sg</td>\n",
       "      <td>Beer glassware</td>\n",
       "      <td>beer</td>\n",
       "      <td>top</td>\n",
       "    </tr>\n",
       "    <tr>\n",
       "      <th>23</th>\n",
       "      <td>/m/01_l33</td>\n",
       "      <td>Craft brewery</td>\n",
       "      <td>beer</td>\n",
       "      <td>top</td>\n",
       "    </tr>\n",
       "    <tr>\n",
       "      <th>24</th>\n",
       "      <td>/m/01d_x</td>\n",
       "      <td>Brewing</td>\n",
       "      <td>beer</td>\n",
       "      <td>top</td>\n",
       "    </tr>\n",
       "    <tr>\n",
       "      <th>25</th>\n",
       "      <td>/m/0335gd</td>\n",
       "      <td>Ginger beer</td>\n",
       "      <td>beer</td>\n",
       "      <td>top</td>\n",
       "    </tr>\n",
       "    <tr>\n",
       "      <th>26</th>\n",
       "      <td>/m/01gj4c</td>\n",
       "      <td>Pint</td>\n",
       "      <td>beer</td>\n",
       "      <td>top</td>\n",
       "    </tr>\n",
       "    <tr>\n",
       "      <th>27</th>\n",
       "      <td>/m/0159gt</td>\n",
       "      <td>Brewery</td>\n",
       "      <td>beer</td>\n",
       "      <td>top</td>\n",
       "    </tr>\n",
       "    <tr>\n",
       "      <th>28</th>\n",
       "      <td>/m/05wn0</td>\n",
       "      <td>Pump</td>\n",
       "      <td>beer</td>\n",
       "      <td>top</td>\n",
       "    </tr>\n",
       "    <tr>\n",
       "      <th>29</th>\n",
       "      <td>/m/02jz0l</td>\n",
       "      <td>Tap</td>\n",
       "      <td>beer</td>\n",
       "      <td>top</td>\n",
       "    </tr>\n",
       "    <tr>\n",
       "      <th>30</th>\n",
       "      <td>/m/01tr_g</td>\n",
       "      <td>Blade</td>\n",
       "      <td>beer</td>\n",
       "      <td>top</td>\n",
       "    </tr>\n",
       "    <tr>\n",
       "      <th>31</th>\n",
       "      <td>/m/04zyn8j</td>\n",
       "      <td>BrewDog</td>\n",
       "      <td>beer</td>\n",
       "      <td>top</td>\n",
       "    </tr>\n",
       "    <tr>\n",
       "      <th>32</th>\n",
       "      <td>/m/02k1gj</td>\n",
       "      <td>Beer tap</td>\n",
       "      <td>beer</td>\n",
       "      <td>top</td>\n",
       "    </tr>\n",
       "    <tr>\n",
       "      <th>33</th>\n",
       "      <td>/m/044gvx</td>\n",
       "      <td>Beer bottle</td>\n",
       "      <td>beer</td>\n",
       "      <td>top</td>\n",
       "    </tr>\n",
       "    <tr>\n",
       "      <th>34</th>\n",
       "      <td>/m/04lc4</td>\n",
       "      <td>Lager</td>\n",
       "      <td>beer</td>\n",
       "      <td>top</td>\n",
       "    </tr>\n",
       "    <tr>\n",
       "      <th>35</th>\n",
       "      <td>/m/0123l0j9</td>\n",
       "      <td>PerfectDraft</td>\n",
       "      <td>beer</td>\n",
       "      <td>top</td>\n",
       "    </tr>\n",
       "    <tr>\n",
       "      <th>36</th>\n",
       "      <td>/m/010fbxy_</td>\n",
       "      <td>Beer tower</td>\n",
       "      <td>beer</td>\n",
       "      <td>top</td>\n",
       "    </tr>\n",
       "    <tr>\n",
       "      <th>37</th>\n",
       "      <td>/m/01jp3</td>\n",
       "      <td>Budweiser</td>\n",
       "      <td>beer</td>\n",
       "      <td>top</td>\n",
       "    </tr>\n",
       "  </tbody>\n",
       "</table>\n",
       "</div>"
      ],
      "text/plain": [
       "         category            topic key_word measure\n",
       "13       /m/01599             Beer     beer     top\n",
       "14  /g/11h8dvvrfx        Beer Hawk     beer     top\n",
       "15      /m/04mwqs              Keg     beer     top\n",
       "16     /m/0x2cb7v     Madison Beer     beer     top\n",
       "17       /m/012mj  Alcoholic drink     beer     top\n",
       "18       /m/039jq            Glass     beer     top\n",
       "19     /m/04dr76w           Bottle     beer     top\n",
       "20    /g/122fpn6r            Drink     beer     top\n",
       "21       /m/0f9n3           Ginger     beer     top\n",
       "22      /m/0bs7sg   Beer glassware     beer     top\n",
       "23      /m/01_l33    Craft brewery     beer     top\n",
       "24       /m/01d_x          Brewing     beer     top\n",
       "25      /m/0335gd      Ginger beer     beer     top\n",
       "26      /m/01gj4c             Pint     beer     top\n",
       "27      /m/0159gt          Brewery     beer     top\n",
       "28       /m/05wn0             Pump     beer     top\n",
       "29      /m/02jz0l              Tap     beer     top\n",
       "30      /m/01tr_g            Blade     beer     top\n",
       "31     /m/04zyn8j          BrewDog     beer     top\n",
       "32      /m/02k1gj         Beer tap     beer     top\n",
       "33      /m/044gvx      Beer bottle     beer     top\n",
       "34       /m/04lc4            Lager     beer     top\n",
       "35    /m/0123l0j9     PerfectDraft     beer     top\n",
       "36    /m/010fbxy_       Beer tower     beer     top\n",
       "37       /m/01jp3        Budweiser     beer     top"
      ]
     },
     "execution_count": 43,
     "metadata": {},
     "output_type": "execute_result"
    }
   ],
   "source": [
    "top"
   ]
  }
 ],
 "metadata": {
  "anaconda-cloud": {},
  "kernelspec": {
   "display_name": "Python 3",
   "language": "python",
   "name": "python3"
  },
  "language_info": {
   "codemirror_mode": {
    "name": "ipython",
    "version": 3
   },
   "file_extension": ".py",
   "mimetype": "text/x-python",
   "name": "python",
   "nbconvert_exporter": "python",
   "pygments_lexer": "ipython3",
   "version": "3.8.5"
  }
 },
 "nbformat": 4,
 "nbformat_minor": 4
}
